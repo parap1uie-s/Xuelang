{
 "cells": [
  {
   "cell_type": "code",
   "execution_count": 1,
   "metadata": {},
   "outputs": [],
   "source": [
    "import numpy as np\n",
    "import pandas as pd\n",
    "import os\n",
    "from kmeans import kmeans, avg_iou\n",
    "from PIL import Image"
   ]
  },
  {
   "cell_type": "code",
   "execution_count": 2,
   "metadata": {},
   "outputs": [],
   "source": [
    "datapath = \"E:\\\\shangfangxin\\\\Project\\\\Xuelang\\\\train\"\n",
    "classes = os.listdir(datapath)"
   ]
  },
  {
   "cell_type": "code",
   "execution_count": 3,
   "metadata": {},
   "outputs": [
    {
     "data": {
      "text/html": [
       "<div>\n",
       "<style scoped>\n",
       "    .dataframe tbody tr th:only-of-type {\n",
       "        vertical-align: middle;\n",
       "    }\n",
       "\n",
       "    .dataframe tbody tr th {\n",
       "        vertical-align: top;\n",
       "    }\n",
       "\n",
       "    .dataframe thead th {\n",
       "        text-align: right;\n",
       "    }\n",
       "</style>\n",
       "<table border=\"1\" class=\"dataframe\">\n",
       "  <thead>\n",
       "    <tr style=\"text-align: right;\">\n",
       "      <th></th>\n",
       "      <th>filename</th>\n",
       "      <th>classes</th>\n",
       "      <th>xmin</th>\n",
       "      <th>ymin</th>\n",
       "      <th>xmax</th>\n",
       "      <th>ymax</th>\n",
       "    </tr>\n",
       "  </thead>\n",
       "  <tbody>\n",
       "    <tr>\n",
       "      <th>0</th>\n",
       "      <td>J01_2018.06.16 10_24_16.jpg</td>\n",
       "      <td>修印</td>\n",
       "      <td>1345</td>\n",
       "      <td>1157</td>\n",
       "      <td>1761</td>\n",
       "      <td>1266</td>\n",
       "    </tr>\n",
       "    <tr>\n",
       "      <th>1</th>\n",
       "      <td>J01_2018.06.22 08_45_25.jpg</td>\n",
       "      <td>剪洞</td>\n",
       "      <td>1205</td>\n",
       "      <td>716</td>\n",
       "      <td>1351</td>\n",
       "      <td>792</td>\n",
       "    </tr>\n",
       "    <tr>\n",
       "      <th>2</th>\n",
       "      <td>J01_2018.06.23 09_09_55.jpg</td>\n",
       "      <td>剪洞</td>\n",
       "      <td>1206</td>\n",
       "      <td>1136</td>\n",
       "      <td>1564</td>\n",
       "      <td>1318</td>\n",
       "    </tr>\n",
       "    <tr>\n",
       "      <th>3</th>\n",
       "      <td>J01_2018.06.23 13_28_32.jpg</td>\n",
       "      <td>剪洞</td>\n",
       "      <td>460</td>\n",
       "      <td>466</td>\n",
       "      <td>518</td>\n",
       "      <td>538</td>\n",
       "    </tr>\n",
       "    <tr>\n",
       "      <th>4</th>\n",
       "      <td>J01_2018.06.26 09_55_27.jpg</td>\n",
       "      <td>剪洞</td>\n",
       "      <td>2200</td>\n",
       "      <td>1000</td>\n",
       "      <td>2262</td>\n",
       "      <td>1062</td>\n",
       "    </tr>\n",
       "  </tbody>\n",
       "</table>\n",
       "</div>"
      ],
      "text/plain": [
       "                      filename classes  xmin  ymin  xmax  ymax\n",
       "0  J01_2018.06.16 10_24_16.jpg      修印  1345  1157  1761  1266\n",
       "1  J01_2018.06.22 08_45_25.jpg      剪洞  1205   716  1351   792\n",
       "2  J01_2018.06.23 09_09_55.jpg      剪洞  1206  1136  1564  1318\n",
       "3  J01_2018.06.23 13_28_32.jpg      剪洞   460   466   518   538\n",
       "4  J01_2018.06.26 09_55_27.jpg      剪洞  2200  1000  2262  1062"
      ]
     },
     "execution_count": 3,
     "metadata": {},
     "output_type": "execute_result"
    }
   ],
   "source": [
    "train_pd = pd.read_csv(\"abnormal.csv\")\n",
    "train_pd.head()"
   ]
  },
  {
   "cell_type": "code",
   "execution_count": 7,
   "metadata": {},
   "outputs": [
    {
     "data": {
      "text/html": [
       "<div>\n",
       "<style scoped>\n",
       "    .dataframe tbody tr th:only-of-type {\n",
       "        vertical-align: middle;\n",
       "    }\n",
       "\n",
       "    .dataframe tbody tr th {\n",
       "        vertical-align: top;\n",
       "    }\n",
       "\n",
       "    .dataframe thead th {\n",
       "        text-align: right;\n",
       "    }\n",
       "</style>\n",
       "<table border=\"1\" class=\"dataframe\">\n",
       "  <thead>\n",
       "    <tr style=\"text-align: right;\">\n",
       "      <th></th>\n",
       "      <th>xmin</th>\n",
       "      <th>ymin</th>\n",
       "      <th>xmax</th>\n",
       "      <th>ymax</th>\n",
       "      <th>width</th>\n",
       "      <th>height</th>\n",
       "      <th>ratio</th>\n",
       "    </tr>\n",
       "  </thead>\n",
       "  <tbody>\n",
       "    <tr>\n",
       "      <th>count</th>\n",
       "      <td>706.000000</td>\n",
       "      <td>706.000000</td>\n",
       "      <td>706.000000</td>\n",
       "      <td>706.000000</td>\n",
       "      <td>706.000000</td>\n",
       "      <td>706.000000</td>\n",
       "      <td>706.000000</td>\n",
       "    </tr>\n",
       "    <tr>\n",
       "      <th>mean</th>\n",
       "      <td>1150.279037</td>\n",
       "      <td>505.008499</td>\n",
       "      <td>1439.655807</td>\n",
       "      <td>1108.341360</td>\n",
       "      <td>289.376771</td>\n",
       "      <td>603.332861</td>\n",
       "      <td>2.185881</td>\n",
       "    </tr>\n",
       "    <tr>\n",
       "      <th>std</th>\n",
       "      <td>601.281766</td>\n",
       "      <td>413.692554</td>\n",
       "      <td>603.216957</td>\n",
       "      <td>510.617291</td>\n",
       "      <td>502.396080</td>\n",
       "      <td>637.242765</td>\n",
       "      <td>5.615563</td>\n",
       "    </tr>\n",
       "    <tr>\n",
       "      <th>min</th>\n",
       "      <td>1.000000</td>\n",
       "      <td>1.000000</td>\n",
       "      <td>94.000000</td>\n",
       "      <td>102.000000</td>\n",
       "      <td>31.000000</td>\n",
       "      <td>35.000000</td>\n",
       "      <td>0.026403</td>\n",
       "    </tr>\n",
       "    <tr>\n",
       "      <th>25%</th>\n",
       "      <td>733.000000</td>\n",
       "      <td>94.000000</td>\n",
       "      <td>1053.000000</td>\n",
       "      <td>721.750000</td>\n",
       "      <td>77.250000</td>\n",
       "      <td>104.000000</td>\n",
       "      <td>0.093373</td>\n",
       "    </tr>\n",
       "    <tr>\n",
       "      <th>50%</th>\n",
       "      <td>1205.500000</td>\n",
       "      <td>466.000000</td>\n",
       "      <td>1426.000000</td>\n",
       "      <td>1061.500000</td>\n",
       "      <td>113.000000</td>\n",
       "      <td>239.000000</td>\n",
       "      <td>0.697224</td>\n",
       "    </tr>\n",
       "    <tr>\n",
       "      <th>75%</th>\n",
       "      <td>1528.500000</td>\n",
       "      <td>805.250000</td>\n",
       "      <td>1860.250000</td>\n",
       "      <td>1552.250000</td>\n",
       "      <td>204.750000</td>\n",
       "      <td>990.000000</td>\n",
       "      <td>1.171993</td>\n",
       "    </tr>\n",
       "    <tr>\n",
       "      <th>max</th>\n",
       "      <td>2444.000000</td>\n",
       "      <td>1688.000000</td>\n",
       "      <td>2560.000000</td>\n",
       "      <td>1920.000000</td>\n",
       "      <td>2554.000000</td>\n",
       "      <td>1916.000000</td>\n",
       "      <td>72.685714</td>\n",
       "    </tr>\n",
       "  </tbody>\n",
       "</table>\n",
       "</div>"
      ],
      "text/plain": [
       "              xmin         ymin         xmax         ymax        width  \\\n",
       "count   706.000000   706.000000   706.000000   706.000000   706.000000   \n",
       "mean   1150.279037   505.008499  1439.655807  1108.341360   289.376771   \n",
       "std     601.281766   413.692554   603.216957   510.617291   502.396080   \n",
       "min       1.000000     1.000000    94.000000   102.000000    31.000000   \n",
       "25%     733.000000    94.000000  1053.000000   721.750000    77.250000   \n",
       "50%    1205.500000   466.000000  1426.000000  1061.500000   113.000000   \n",
       "75%    1528.500000   805.250000  1860.250000  1552.250000   204.750000   \n",
       "max    2444.000000  1688.000000  2560.000000  1920.000000  2554.000000   \n",
       "\n",
       "            height       ratio  \n",
       "count   706.000000  706.000000  \n",
       "mean    603.332861    2.185881  \n",
       "std     637.242765    5.615563  \n",
       "min      35.000000    0.026403  \n",
       "25%     104.000000    0.093373  \n",
       "50%     239.000000    0.697224  \n",
       "75%     990.000000    1.171993  \n",
       "max    1916.000000   72.685714  "
      ]
     },
     "execution_count": 7,
     "metadata": {},
     "output_type": "execute_result"
    }
   ],
   "source": [
    "train_pd.describe()"
   ]
  },
  {
   "cell_type": "code",
   "execution_count": 4,
   "metadata": {},
   "outputs": [],
   "source": [
    "train_pd['width'] = train_pd['xmax'] - train_pd['xmin']\n",
    "train_pd['height'] = train_pd['ymax'] - train_pd['ymin']\n",
    "train_pd['ratio'] = train_pd['width'] / train_pd['height']"
   ]
  },
  {
   "cell_type": "code",
   "execution_count": 5,
   "metadata": {},
   "outputs": [
    {
     "data": {
      "text/plain": [
       "(706, 2)"
      ]
     },
     "execution_count": 5,
     "metadata": {},
     "output_type": "execute_result"
    }
   ],
   "source": [
    "dataset = []\n",
    "for _,row in train_pd.iterrows():\n",
    "    tempImg = Image.open( os.path.join(datapath, row['classes'], row['filename']) )\n",
    "    width, height = tempImg.size\n",
    "    xmin = float(row['xmin'] / width)\n",
    "    ymin = float(row['ymin'] / height)\n",
    "    xmax = float(row['xmax'] / width)\n",
    "    ymax = float(row['ymax'] / height)\n",
    "    dataset.append([xmax - xmin, ymax - ymin])\n",
    "dataset = np.array(dataset)\n",
    "dataset.shape"
   ]
  },
  {
   "cell_type": "code",
   "execution_count": 6,
   "metadata": {},
   "outputs": [
    {
     "name": "stdout",
     "output_type": "stream",
     "text": [
      "Accuracy: 48.56%\n",
      "Boxes:\n",
      " [[0.0359375  0.70104167]\n",
      " [0.04121094 0.05729167]\n",
      " [0.22617187 0.090625  ]]\n",
      "Ratios:\n",
      " [0.05, 0.72, 2.5]\n"
     ]
    }
   ],
   "source": [
    "# width / height\n",
    "out = kmeans(dataset, k = 3)\n",
    "print(\"Accuracy: {:.2f}%\".format(avg_iou(dataset, out) * 100))\n",
    "print(\"Boxes:\\n {}\".format(out))\n",
    "\n",
    "ratios = np.around(out[:, 0] / out[:, 1], decimals=2).tolist()\n",
    "print(\"Ratios:\\n {}\".format(sorted(ratios)))"
   ]
  },
  {
   "cell_type": "code",
   "execution_count": 8,
   "metadata": {},
   "outputs": [],
   "source": [
    "candidate_boxes = [ (113, 113/r) for r in ratios ] + [ (239*r, 239) for r in ratios ]"
   ]
  },
  {
   "cell_type": "code",
   "execution_count": 26,
   "metadata": {},
   "outputs": [
    {
     "data": {
      "text/plain": [
       "[(113, 156.94444444444446),\n",
       " (113, 45.2),\n",
       " (11.950000000000001, 239),\n",
       " (172.07999999999998, 239),\n",
       " (597.5, 239)]"
      ]
     },
     "execution_count": 26,
     "metadata": {},
     "output_type": "execute_result"
    }
   ],
   "source": [
    "candidate_boxes"
   ]
  },
  {
   "cell_type": "code",
   "execution_count": 25,
   "metadata": {},
   "outputs": [],
   "source": [
    "del(candidate_boxes[0])"
   ]
  },
  {
   "cell_type": "code",
   "execution_count": 12,
   "metadata": {},
   "outputs": [
    {
     "data": {
      "text/plain": [
       "1316"
      ]
     },
     "execution_count": 12,
     "metadata": {},
     "output_type": "execute_result"
    }
   ],
   "source": [
    "normal_image_list = os.listdir( os.path.join(datapath, \"正常\") )\n",
    "len(normal_image_list)"
   ]
  },
  {
   "cell_type": "code",
   "execution_count": 27,
   "metadata": {},
   "outputs": [],
   "source": [
    "cache = []\n",
    "for file in normal_image_list:\n",
    "    box = candidate_boxes[ np.random.choice(len(candidate_boxes), 1)[0] ]\n",
    "    \n",
    "    tempImg = Image.open( os.path.join(datapath, \"正常\", file) )\n",
    "    width, height = tempImg.size\n",
    "    \n",
    "    # 裁剪图像中心位置\n",
    "    xmin = max(int(width / 2 - box[0] / 2), 0)\n",
    "    xmax = min(int(width / 2 + box[0] / 2), width)\n",
    "    ymin = max(int(height / 2 - box[1] / 2), 0)\n",
    "    ymax = min(int(height / 2 + box[1] / 2), height)\n",
    "    cache.append( [file, \"正常\",  xmin, ymin, xmax, ymax ])\n",
    "data_pd = pd.DataFrame(cache, columns=[\"filename\", \"classes\", \"xmin\", \"ymin\", \"xmax\", \"ymax\"])"
   ]
  },
  {
   "cell_type": "code",
   "execution_count": 29,
   "metadata": {},
   "outputs": [
    {
     "data": {
      "text/html": [
       "<div>\n",
       "<style scoped>\n",
       "    .dataframe tbody tr th:only-of-type {\n",
       "        vertical-align: middle;\n",
       "    }\n",
       "\n",
       "    .dataframe tbody tr th {\n",
       "        vertical-align: top;\n",
       "    }\n",
       "\n",
       "    .dataframe thead th {\n",
       "        text-align: right;\n",
       "    }\n",
       "</style>\n",
       "<table border=\"1\" class=\"dataframe\">\n",
       "  <thead>\n",
       "    <tr style=\"text-align: right;\">\n",
       "      <th></th>\n",
       "      <th>filename</th>\n",
       "      <th>classes</th>\n",
       "      <th>xmin</th>\n",
       "      <th>ymin</th>\n",
       "      <th>xmax</th>\n",
       "      <th>ymax</th>\n",
       "    </tr>\n",
       "  </thead>\n",
       "  <tbody>\n",
       "    <tr>\n",
       "      <th>0</th>\n",
       "      <td>J01_2018.06.13 13_23_08.jpg</td>\n",
       "      <td>正常</td>\n",
       "      <td>1223</td>\n",
       "      <td>881</td>\n",
       "      <td>1336</td>\n",
       "      <td>1038</td>\n",
       "    </tr>\n",
       "    <tr>\n",
       "      <th>1</th>\n",
       "      <td>J01_2018.06.13 13_24_39.jpg</td>\n",
       "      <td>正常</td>\n",
       "      <td>981</td>\n",
       "      <td>840</td>\n",
       "      <td>1578</td>\n",
       "      <td>1079</td>\n",
       "    </tr>\n",
       "    <tr>\n",
       "      <th>2</th>\n",
       "      <td>J01_2018.06.13 13_25_51.jpg</td>\n",
       "      <td>正常</td>\n",
       "      <td>981</td>\n",
       "      <td>840</td>\n",
       "      <td>1578</td>\n",
       "      <td>1079</td>\n",
       "    </tr>\n",
       "    <tr>\n",
       "      <th>3</th>\n",
       "      <td>J01_2018.06.13 13_27_54.jpg</td>\n",
       "      <td>正常</td>\n",
       "      <td>981</td>\n",
       "      <td>840</td>\n",
       "      <td>1578</td>\n",
       "      <td>1079</td>\n",
       "    </tr>\n",
       "    <tr>\n",
       "      <th>4</th>\n",
       "      <td>J01_2018.06.13 13_29_52.jpg</td>\n",
       "      <td>正常</td>\n",
       "      <td>1274</td>\n",
       "      <td>840</td>\n",
       "      <td>1285</td>\n",
       "      <td>1079</td>\n",
       "    </tr>\n",
       "  </tbody>\n",
       "</table>\n",
       "</div>"
      ],
      "text/plain": [
       "                      filename classes  xmin  ymin  xmax  ymax\n",
       "0  J01_2018.06.13 13_23_08.jpg      正常  1223   881  1336  1038\n",
       "1  J01_2018.06.13 13_24_39.jpg      正常   981   840  1578  1079\n",
       "2  J01_2018.06.13 13_25_51.jpg      正常   981   840  1578  1079\n",
       "3  J01_2018.06.13 13_27_54.jpg      正常   981   840  1578  1079\n",
       "4  J01_2018.06.13 13_29_52.jpg      正常  1274   840  1285  1079"
      ]
     },
     "execution_count": 29,
     "metadata": {},
     "output_type": "execute_result"
    }
   ],
   "source": [
    "data_pd.head()"
   ]
  },
  {
   "cell_type": "code",
   "execution_count": 30,
   "metadata": {},
   "outputs": [],
   "source": [
    "data_pd.to_csv(\"normal.csv\", index=False)"
   ]
  },
  {
   "cell_type": "code",
   "execution_count": null,
   "metadata": {},
   "outputs": [],
   "source": []
  }
 ],
 "metadata": {
  "kernelspec": {
   "display_name": "Python 3",
   "language": "python",
   "name": "python3"
  },
  "language_info": {
   "codemirror_mode": {
    "name": "ipython",
    "version": 3
   },
   "file_extension": ".py",
   "mimetype": "text/x-python",
   "name": "python",
   "nbconvert_exporter": "python",
   "pygments_lexer": "ipython3",
   "version": "3.6.5"
  }
 },
 "nbformat": 4,
 "nbformat_minor": 2
}
