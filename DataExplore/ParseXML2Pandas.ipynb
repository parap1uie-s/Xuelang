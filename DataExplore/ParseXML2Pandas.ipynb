{
 "cells": [
  {
   "cell_type": "code",
   "execution_count": 2,
   "metadata": {},
   "outputs": [],
   "source": [
    "import pandas as pd\n",
    "import numpy as np\n",
    "import xml.etree.ElementTree as ET\n",
    "import os"
   ]
  },
  {
   "cell_type": "code",
   "execution_count": 3,
   "metadata": {},
   "outputs": [],
   "source": [
    "datapath = \"E:\\\\shangfangxin\\\\Project\\\\Xuelang\\\\train\"\n",
    "classes = os.listdir(datapath)"
   ]
  },
  {
   "cell_type": "code",
   "execution_count": 4,
   "metadata": {},
   "outputs": [],
   "source": [
    "# 无输出，代表一个xml文件，一个图像，只有一个框\n",
    "for c in classes:\n",
    "    filelist = os.listdir( os.path.join(datapath, c) )\n",
    "    \n",
    "    for f in filelist:\n",
    "        if \"xml\" not in f:\n",
    "            continue\n",
    "        tree = ET.parse( os.path.join(datapath, c, f) )\n",
    "        root = tree.getroot()\n",
    "        boxes_list = root.find(\"object\").findall(\"bndbox\")\n",
    "        if len(boxes_list) > 1:\n",
    "            print(f)"
   ]
  },
  {
   "cell_type": "code",
   "execution_count": 8,
   "metadata": {},
   "outputs": [
    {
     "name": "stdout",
     "output_type": "stream",
     "text": [
      "修印\n",
      "剪洞\n",
      "厚段\n",
      "厚薄段\n",
      "吊弓\n",
      "吊纬\n",
      "吊经\n",
      "回边\n",
      "夹码\n",
      "嵌结\n",
      "弓纱\n",
      "愣断\n",
      "扎梳\n",
      "扎洞\n",
      "扎纱\n",
      "擦伤\n",
      "擦毛\n",
      "擦洞\n",
      "明嵌线\n",
      "楞断\n",
      "正常\n",
      "毛斑\n",
      "毛洞\n",
      "毛粒\n",
      "污渍\n",
      "油渍\n",
      "破洞\n",
      "破边\n",
      "粗纱\n",
      "紧纱\n",
      "纬粗纱\n",
      "线印\n",
      "织入\n",
      "织稀\n",
      "经粗纱\n",
      "经跳花\n",
      "结洞\n",
      "缺纬\n",
      "缺经\n",
      "耳朵\n",
      "蒸呢印\n",
      "跳花\n",
      "边扎洞\n",
      "边白印\n",
      "边缺纬\n",
      "边缺经\n",
      "边针眼\n",
      "黄渍\n"
     ]
    }
   ],
   "source": [
    "data_pd = pd.DataFrame(columns=[\"filename\", \"classes\", \"xmin\", \"ymin\", \"xmax\", \"ymax\"])\n",
    "cache = []\n",
    "for c in classes:\n",
    "    print(c)\n",
    "    filelist = os.listdir( os.path.join(datapath, c) )\n",
    "    \n",
    "    for f in filelist:\n",
    "        if \"xml\" not in f:\n",
    "            continue\n",
    "        tree = ET.parse( os.path.join(datapath, c, f) )\n",
    "        root = tree.getroot()\n",
    "        filename = root.find(\"filename\").text\n",
    "        \n",
    "        bndbox = root.find(\"object\").find(\"bndbox\")\n",
    "        xmin = bndbox.find(\"xmin\").text\n",
    "        ymin = bndbox.find(\"ymin\").text\n",
    "        xmax = bndbox.find(\"xmax\").text\n",
    "        ymax = bndbox.find(\"ymax\").text\n",
    "        \n",
    "        cache.append([filename, c, xmin, ymin, xmax, ymax])"
   ]
  },
  {
   "cell_type": "code",
   "execution_count": 14,
   "metadata": {},
   "outputs": [],
   "source": [
    "data_pd = pd.DataFrame(cache, columns=[\"filename\", \"classes\", \"xmin\", \"ymin\", \"xmax\", \"ymax\"])"
   ]
  },
  {
   "cell_type": "code",
   "execution_count": 15,
   "metadata": {},
   "outputs": [
    {
     "data": {
      "text/html": [
       "<div>\n",
       "<style scoped>\n",
       "    .dataframe tbody tr th:only-of-type {\n",
       "        vertical-align: middle;\n",
       "    }\n",
       "\n",
       "    .dataframe tbody tr th {\n",
       "        vertical-align: top;\n",
       "    }\n",
       "\n",
       "    .dataframe thead th {\n",
       "        text-align: right;\n",
       "    }\n",
       "</style>\n",
       "<table border=\"1\" class=\"dataframe\">\n",
       "  <thead>\n",
       "    <tr style=\"text-align: right;\">\n",
       "      <th></th>\n",
       "      <th>filename</th>\n",
       "      <th>classes</th>\n",
       "      <th>xmin</th>\n",
       "      <th>ymin</th>\n",
       "      <th>xmax</th>\n",
       "      <th>ymax</th>\n",
       "    </tr>\n",
       "  </thead>\n",
       "  <tbody>\n",
       "    <tr>\n",
       "      <th>701</th>\n",
       "      <td>J01_2018.06.17 14_59_55.jpg</td>\n",
       "      <td>黄渍</td>\n",
       "      <td>1910</td>\n",
       "      <td>1153</td>\n",
       "      <td>2262</td>\n",
       "      <td>1781</td>\n",
       "    </tr>\n",
       "    <tr>\n",
       "      <th>702</th>\n",
       "      <td>J01_2018.06.17 15_29_01.jpg</td>\n",
       "      <td>黄渍</td>\n",
       "      <td>1143</td>\n",
       "      <td>366</td>\n",
       "      <td>1249</td>\n",
       "      <td>448</td>\n",
       "    </tr>\n",
       "    <tr>\n",
       "      <th>703</th>\n",
       "      <td>J01_2018.06.19 15_26_23.jpg</td>\n",
       "      <td>黄渍</td>\n",
       "      <td>1617</td>\n",
       "      <td>761</td>\n",
       "      <td>1690</td>\n",
       "      <td>834</td>\n",
       "    </tr>\n",
       "    <tr>\n",
       "      <th>704</th>\n",
       "      <td>J01_2018.06.22 14_02_55.jpg</td>\n",
       "      <td>黄渍</td>\n",
       "      <td>1159</td>\n",
       "      <td>858</td>\n",
       "      <td>1345</td>\n",
       "      <td>992</td>\n",
       "    </tr>\n",
       "    <tr>\n",
       "      <th>705</th>\n",
       "      <td>J01_2018.06.23 09_19_24.jpg</td>\n",
       "      <td>黄渍</td>\n",
       "      <td>973</td>\n",
       "      <td>654</td>\n",
       "      <td>1143</td>\n",
       "      <td>904</td>\n",
       "    </tr>\n",
       "  </tbody>\n",
       "</table>\n",
       "</div>"
      ],
      "text/plain": [
       "                        filename classes  xmin  ymin  xmax  ymax\n",
       "701  J01_2018.06.17 14_59_55.jpg      黄渍  1910  1153  2262  1781\n",
       "702  J01_2018.06.17 15_29_01.jpg      黄渍  1143   366  1249   448\n",
       "703  J01_2018.06.19 15_26_23.jpg      黄渍  1617   761  1690   834\n",
       "704  J01_2018.06.22 14_02_55.jpg      黄渍  1159   858  1345   992\n",
       "705  J01_2018.06.23 09_19_24.jpg      黄渍   973   654  1143   904"
      ]
     },
     "execution_count": 15,
     "metadata": {},
     "output_type": "execute_result"
    }
   ],
   "source": [
    "data_pd.tail()"
   ]
  },
  {
   "cell_type": "code",
   "execution_count": 23,
   "metadata": {},
   "outputs": [],
   "source": [
    "data_pd.to_csv(\"abnormal.csv\", index=False)"
   ]
  },
  {
   "cell_type": "code",
   "execution_count": null,
   "metadata": {},
   "outputs": [],
   "source": []
  }
 ],
 "metadata": {
  "kernelspec": {
   "display_name": "Python 3",
   "language": "python",
   "name": "python3"
  },
  "language_info": {
   "codemirror_mode": {
    "name": "ipython",
    "version": 3
   },
   "file_extension": ".py",
   "mimetype": "text/x-python",
   "name": "python",
   "nbconvert_exporter": "python",
   "pygments_lexer": "ipython3",
   "version": "3.6.5"
  }
 },
 "nbformat": 4,
 "nbformat_minor": 2
}
